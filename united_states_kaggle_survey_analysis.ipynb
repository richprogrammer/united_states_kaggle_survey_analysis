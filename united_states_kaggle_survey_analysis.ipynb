{
 "cells": [
  {
   "cell_type": "markdown",
   "id": "7ab92836",
   "metadata": {
    "papermill": {
     "duration": 0.007174,
     "end_time": "2022-11-18T19:19:55.816139",
     "exception": false,
     "start_time": "2022-11-18T19:19:55.808965",
     "status": "completed"
    },
    "tags": []
   },
   "source": [
    "# **A quick short analysis of Kaggler's who are Data Scientists in the United States**"
   ]
  },
  {
   "cell_type": "markdown",
   "id": "0aa3e23a",
   "metadata": {
    "papermill": {
     "duration": 0.005589,
     "end_time": "2022-11-18T19:19:55.828014",
     "exception": false,
     "start_time": "2022-11-18T19:19:55.822425",
     "status": "completed"
    },
    "tags": []
   },
   "source": [
    "**As an aspiring data scientist living in the United States, I wanted to focus exclusively on Kaggler's who live in the United States and are currently working as Data Scientists.**"
   ]
  },
  {
   "cell_type": "code",
   "execution_count": 1,
   "id": "efb982ef",
   "metadata": {
    "_cell_guid": "b1076dfc-b9ad-4769-8c92-a6c4dae69d19",
    "_uuid": "8f2839f25d086af736a60e9eeb907d3b93b6e0e5",
    "collapsed": true,
    "execution": {
     "iopub.execute_input": "2022-11-18T19:19:55.842987Z",
     "iopub.status.busy": "2022-11-18T19:19:55.842160Z",
     "iopub.status.idle": "2022-11-18T19:19:58.019950Z",
     "shell.execute_reply": "2022-11-18T19:19:58.018234Z"
    },
    "jupyter": {
     "outputs_hidden": true
    },
    "papermill": {
     "duration": 2.18911,
     "end_time": "2022-11-18T19:19:58.023068",
     "exception": false,
     "start_time": "2022-11-18T19:19:55.833958",
     "status": "completed"
    },
    "tags": []
   },
   "outputs": [
    {
     "name": "stderr",
     "output_type": "stream",
     "text": [
      "/opt/conda/lib/python3.7/site-packages/IPython/core/interactiveshell.py:3552: DtypeWarning: Columns (0,208,225,255,257,260,270,271,277) have mixed types.Specify dtype option on import or set low_memory=False.\n",
      "  exec(code_obj, self.user_global_ns, self.user_ns)\n"
     ]
    }
   ],
   "source": [
    "#Let's import the libraries I'm going to use for this breakdown as well as read the data\n",
    "import numpy as np\n",
    "import pandas as pd \n",
    "import matplotlib.pyplot as plt\n",
    "import seaborn as sns\n",
    "\n",
    "sv = pd.read_csv('../input/kaggle-survey-2022/kaggle_survey_2022_responses.csv')"
   ]
  },
  {
   "cell_type": "markdown",
   "id": "4d080c80",
   "metadata": {
    "papermill": {
     "duration": 0.005581,
     "end_time": "2022-11-18T19:19:58.036225",
     "exception": false,
     "start_time": "2022-11-18T19:19:58.030644",
     "status": "completed"
    },
    "tags": []
   },
   "source": [
    "# Let's focus data only on Kaggler's in the United States. The count for each education level."
   ]
  },
  {
   "cell_type": "code",
   "execution_count": 2,
   "id": "51243032",
   "metadata": {
    "execution": {
     "iopub.execute_input": "2022-11-18T19:19:58.050323Z",
     "iopub.status.busy": "2022-11-18T19:19:58.049293Z",
     "iopub.status.idle": "2022-11-18T19:19:58.094280Z",
     "shell.execute_reply": "2022-11-18T19:19:58.092934Z"
    },
    "papermill": {
     "duration": 0.054833,
     "end_time": "2022-11-18T19:19:58.096900",
     "exception": false,
     "start_time": "2022-11-18T19:19:58.042067",
     "status": "completed"
    },
    "tags": []
   },
   "outputs": [
    {
     "data": {
      "text/plain": [
       "Master’s degree                                                      1317\n",
       "Bachelor’s degree                                                     726\n",
       "Doctoral degree                                                       471\n",
       "Some college/university study without earning a bachelor’s degree     205\n",
       "Professional doctorate                                                 79\n",
       "I prefer not to answer                                                 56\n",
       "No formal education past high school                                   34\n",
       "Name: Q8, dtype: int64"
      ]
     },
     "execution_count": 2,
     "metadata": {},
     "output_type": "execute_result"
    }
   ],
   "source": [
    "us = sv['Q4'] == 'United States of America'  #All the data for United States only.\n",
    "usa = sv[us] \n",
    "usa['Q8'].value_counts() #Using value_counts() to find the number for each education level"
   ]
  },
  {
   "cell_type": "markdown",
   "id": "bc28b1cf",
   "metadata": {
    "papermill": {
     "duration": 0.005708,
     "end_time": "2022-11-18T19:19:58.108643",
     "exception": false,
     "start_time": "2022-11-18T19:19:58.102935",
     "status": "completed"
    },
    "tags": []
   },
   "source": [
    "# Creating a pie chart with the data obtained from above."
   ]
  },
  {
   "cell_type": "code",
   "execution_count": 3,
   "id": "31ab3642",
   "metadata": {
    "execution": {
     "iopub.execute_input": "2022-11-18T19:19:58.123372Z",
     "iopub.status.busy": "2022-11-18T19:19:58.122510Z",
     "iopub.status.idle": "2022-11-18T19:19:58.282215Z",
     "shell.execute_reply": "2022-11-18T19:19:58.281264Z"
    },
    "papermill": {
     "duration": 0.172787,
     "end_time": "2022-11-18T19:19:58.287526",
     "exception": false,
     "start_time": "2022-11-18T19:19:58.114739",
     "status": "completed"
    },
    "tags": []
   },
   "outputs": [
    {
     "data": {
      "image/png": "[encoded data removed]",
      "text/plain": [
       "<Figure size 432x288 with 1 Axes>"
      ]
     },
     "metadata": {},
     "output_type": "display_data"
    }
   ],
   "source": [
    "#Data obtained from the info above\n",
    "data = [1317,726,471,79,295]\n",
    "labels = [\"Master’s degree\", \"Bachelor’s degree\", \"Doctoral degree\", \"Professional doctorate\", \"No College/ Did not answer\", ]\n",
    "#Seaborn color palette\n",
    "colors = sns.color_palette('pastel')[0:5]\n",
    "\n",
    "#Create pie chart\n",
    "plt.pie(data, labels = labels, colors = colors, autopct='%.0f%%')\n",
    "plt.title('Educational Levels for Kagglers in the US')\n",
    "plt.show()"
   ]
  },
  {
   "cell_type": "markdown",
   "id": "17b37d26",
   "metadata": {
    "papermill": {
     "duration": 0.017831,
     "end_time": "2022-11-18T19:19:58.321183",
     "exception": false,
     "start_time": "2022-11-18T19:19:58.303352",
     "status": "completed"
    },
    "tags": []
   },
   "source": [
    "Over 60% of the Kaggler's in the United States have advanced degrees.  Interesting.  Now let's now narrow this down even further to see those Kaggler's who are currently data scientists, and their level of education."
   ]
  },
  {
   "cell_type": "markdown",
   "id": "4824d130",
   "metadata": {
    "papermill": {
     "duration": 0.015116,
     "end_time": "2022-11-18T19:19:58.351914",
     "exception": false,
     "start_time": "2022-11-18T19:19:58.336798",
     "status": "completed"
    },
    "tags": []
   },
   "source": [
    "# Going forward, all stats are for Kaggler's who are currently working as data scientists."
   ]
  },
  {
   "cell_type": "markdown",
   "id": "8548f324",
   "metadata": {
    "papermill": {
     "duration": 0.005968,
     "end_time": "2022-11-18T19:19:58.365912",
     "exception": false,
     "start_time": "2022-11-18T19:19:58.359944",
     "status": "completed"
    },
    "tags": []
   },
   "source": [
    "# Let's find out how many Kaggler's in the US is a Data Scientist."
   ]
  },
  {
   "cell_type": "code",
   "execution_count": 4,
   "id": "2127c373",
   "metadata": {
    "execution": {
     "iopub.execute_input": "2022-11-18T19:19:58.380995Z",
     "iopub.status.busy": "2022-11-18T19:19:58.379824Z",
     "iopub.status.idle": "2022-11-18T19:19:58.388915Z",
     "shell.execute_reply": "2022-11-18T19:19:58.388140Z"
    },
    "papermill": {
     "duration": 0.019213,
     "end_time": "2022-11-18T19:19:58.391479",
     "exception": false,
     "start_time": "2022-11-18T19:19:58.372266",
     "status": "completed"
    },
    "tags": []
   },
   "outputs": [
    {
     "data": {
      "text/plain": [
       "Data Scientist                                                      354\n",
       "Data Analyst (Business, Marketing, Financial, Quantitative, etc)    235\n",
       "Currently not employed                                              200\n",
       "Manager (Program, Project, Operations, Executive-level, etc)        191\n",
       "Other                                                               189\n",
       "Software Engineer                                                   138\n",
       "Research Scientist                                                  134\n",
       "Teacher / professor                                                  96\n",
       "Machine Learning/ MLops Engineer                                     81\n",
       "Engineer (non-software)                                              60\n",
       "Data Engineer                                                        53\n",
       "Data Architect                                                       26\n",
       "Statistician                                                         22\n",
       "Developer Advocate                                                   13\n",
       "Data Administrator                                                    9\n",
       "Name: Q23, dtype: int64"
      ]
     },
     "execution_count": 4,
     "metadata": {},
     "output_type": "execute_result"
    }
   ],
   "source": [
    "usa['Q23'].value_counts()  #Find how many data scientists are in the US"
   ]
  },
  {
   "cell_type": "markdown",
   "id": "7047947f",
   "metadata": {
    "papermill": {
     "duration": 0.006435,
     "end_time": "2022-11-18T19:19:58.406948",
     "exception": false,
     "start_time": "2022-11-18T19:19:58.400513",
     "status": "completed"
    },
    "tags": []
   },
   "source": [
    "# The education level of Data Scientists in the US."
   ]
  },
  {
   "cell_type": "code",
   "execution_count": 5,
   "id": "d72e18e8",
   "metadata": {
    "execution": {
     "iopub.execute_input": "2022-11-18T19:19:58.424812Z",
     "iopub.status.busy": "2022-11-18T19:19:58.424098Z",
     "iopub.status.idle": "2022-11-18T19:19:58.438962Z",
     "shell.execute_reply": "2022-11-18T19:19:58.436514Z"
    },
    "papermill": {
     "duration": 0.028688,
     "end_time": "2022-11-18T19:19:58.442609",
     "exception": false,
     "start_time": "2022-11-18T19:19:58.413921",
     "status": "completed"
    },
    "tags": []
   },
   "outputs": [
    {
     "data": {
      "text/plain": [
       "Master’s degree                                                      187\n",
       "Doctoral degree                                                       90\n",
       "Bachelor’s degree                                                     54\n",
       "Professional doctorate                                                10\n",
       "I prefer not to answer                                                 7\n",
       "Some college/university study without earning a bachelor’s degree      4\n",
       "No formal education past high school                                   2\n",
       "Name: Q8, dtype: int64"
      ]
     },
     "execution_count": 5,
     "metadata": {},
     "output_type": "execute_result"
    }
   ],
   "source": [
    "datascientist = usa['Q23'] == 'Data Scientist' # all Kaggler's who are currently Data Scientists in the US\n",
    "ds = usa[datascientist]\n",
    "ds['Q8'].value_counts() #breaking down education for working Data Scientists"
   ]
  },
  {
   "cell_type": "markdown",
   "id": "1fbec736",
   "metadata": {
    "papermill": {
     "duration": 0.007181,
     "end_time": "2022-11-18T19:19:58.460448",
     "exception": false,
     "start_time": "2022-11-18T19:19:58.453267",
     "status": "completed"
    },
    "tags": []
   },
   "source": [
    "# Creating a pie chart with the data obtained from above."
   ]
  },
  {
   "cell_type": "code",
   "execution_count": 6,
   "id": "40bd0c94",
   "metadata": {
    "execution": {
     "iopub.execute_input": "2022-11-18T19:19:58.476908Z",
     "iopub.status.busy": "2022-11-18T19:19:58.475564Z",
     "iopub.status.idle": "2022-11-18T19:19:58.630515Z",
     "shell.execute_reply": "2022-11-18T19:19:58.628756Z"
    },
    "papermill": {
     "duration": 0.168044,
     "end_time": "2022-11-18T19:19:58.635230",
     "exception": false,
     "start_time": "2022-11-18T19:19:58.467186",
     "status": "completed"
    },
    "tags": []
   },
   "outputs": [
    {
     "data": {
      "image/png": "[encoded data removed]",
      "text/plain": [
       "<Figure size 432x288 with 1 Axes>"
      ]
     },
     "metadata": {},
     "output_type": "display_data"
    }
   ],
   "source": [
    "data = [187,54,90,10,11]\n",
    "labels = [\"Master’s degree\", \"Bachelor’s degree\", \"Doctoral degree\", \"Professional doctorate\", \"No College/ Did not answer\", ]\n",
    "\n",
    "colors = sns.color_palette('pastel')[0:5]\n",
    "\n",
    "plt.pie(data, labels = labels, colors = colors, autopct='%.0f%%')\n",
    "plt.title('Educational Levels for Data Scientists in the US')\n",
    "plt.show()\n"
   ]
  },
  {
   "cell_type": "markdown",
   "id": "ea349f2d",
   "metadata": {
    "papermill": {
     "duration": 0.01723,
     "end_time": "2022-11-18T19:19:58.670243",
     "exception": false,
     "start_time": "2022-11-18T19:19:58.653013",
     "status": "completed"
    },
    "tags": []
   },
   "source": [
    "These findings were eye opening.  Over 50% of current working data scientists had a Master's and over 80% had an advanced degree! This finding leads me to conclude it is a good idea to at have at least a Master's degree to at least have a shot at having a career as a Data Scientist. \n",
    "\n",
    "Watching all these youtube videos claiming you can get a job as a data scientist without some form of advanced degree is somewhat misleading.  You certainly can get a job as a data scientist without having an advanced degree based on the data I retrieved, however it's clear with over 80% of Kaggler's in the US holding an advanced degree currently working as a data scientist that you should at least have a Master's degree to increase your chances of landing a job as a data scientist.  Obviously, having an advanced degree doesn't guarantee you a job, but it certainly helps.\n",
    "\n",
    "This is why, I believe, you should never take things at face value.  You should look at data yourself and make your own conclusions. "
   ]
  },
  {
   "cell_type": "markdown",
   "id": "ce7eeb09",
   "metadata": {
    "papermill": {
     "duration": 0.006749,
     "end_time": "2022-11-18T19:19:58.689684",
     "exception": false,
     "start_time": "2022-11-18T19:19:58.682935",
     "status": "completed"
    },
    "tags": []
   },
   "source": [
    "# Let's now see the ages of Data Scientists"
   ]
  },
  {
   "cell_type": "code",
   "execution_count": 7,
   "id": "51a4d644",
   "metadata": {
    "execution": {
     "iopub.execute_input": "2022-11-18T19:19:58.706278Z",
     "iopub.status.busy": "2022-11-18T19:19:58.705829Z",
     "iopub.status.idle": "2022-11-18T19:19:58.714426Z",
     "shell.execute_reply": "2022-11-18T19:19:58.713403Z"
    },
    "papermill": {
     "duration": 0.019707,
     "end_time": "2022-11-18T19:19:58.716822",
     "exception": false,
     "start_time": "2022-11-18T19:19:58.697115",
     "status": "completed"
    },
    "tags": []
   },
   "outputs": [
    {
     "data": {
      "text/plain": [
       "30-34    81\n",
       "35-39    71\n",
       "25-29    56\n",
       "40-44    45\n",
       "45-49    30\n",
       "50-54    25\n",
       "55-59    18\n",
       "60-69    16\n",
       "22-24     8\n",
       "70+       3\n",
       "18-21     1\n",
       "Name: Q2, dtype: int64"
      ]
     },
     "execution_count": 7,
     "metadata": {},
     "output_type": "execute_result"
    }
   ],
   "source": [
    "ds['Q2'].value_counts()"
   ]
  },
  {
   "cell_type": "code",
   "execution_count": 8,
   "id": "b064cd8a",
   "metadata": {
    "execution": {
     "iopub.execute_input": "2022-11-18T19:19:58.733425Z",
     "iopub.status.busy": "2022-11-18T19:19:58.733025Z",
     "iopub.status.idle": "2022-11-18T19:19:58.968879Z",
     "shell.execute_reply": "2022-11-18T19:19:58.967694Z"
    },
    "jupyter": {
     "source_hidden": true
    },
    "papermill": {
     "duration": 0.247179,
     "end_time": "2022-11-18T19:19:58.971413",
     "exception": false,
     "start_time": "2022-11-18T19:19:58.724234",
     "status": "completed"
    },
    "tags": []
   },
   "outputs": [
    {
     "data": {
      "image/png": "[encoded data removed]",
      "text/plain": [
       "<Figure size 432x288 with 1 Axes>"
      ]
     },
     "metadata": {},
     "output_type": "display_data"
    }
   ],
   "source": [
    "# Combined some ages to make the graph look more clear and \"better\"\n",
    "\n",
    "sns.set_style('darkgrid')\n",
    "\n",
    "count = [65,152,75,43,19 ]\n",
    "age = ['18-29', '30-39', '40-49','50-59','60+']\n",
    "plt.xlabel(\"Age Range\")\n",
    "plt.ylabel(\"Count\")\n",
    "\n",
    "\n",
    "# Construct plot\n",
    "\n",
    "sns.barplot(x = age, y = count)\n",
    "plt.title('Age of Data scientists in the US')\n",
    "plt.show()"
   ]
  },
  {
   "cell_type": "markdown",
   "id": "a1fd06cb",
   "metadata": {
    "papermill": {
     "duration": 0.007084,
     "end_time": "2022-11-18T19:19:58.986025",
     "exception": false,
     "start_time": "2022-11-18T19:19:58.978941",
     "status": "completed"
    },
    "tags": []
   },
   "source": [
    "The vast majority of the workforce is over 30 years old, which makes sense because the majority have advanced degrees as we observed before."
   ]
  },
  {
   "cell_type": "markdown",
   "id": "8e11e1f2",
   "metadata": {
    "papermill": {
     "duration": 0.007039,
     "end_time": "2022-11-18T19:19:59.000574",
     "exception": false,
     "start_time": "2022-11-18T19:19:58.993535",
     "status": "completed"
    },
    "tags": []
   },
   "source": [
    "# It's all about the money!"
   ]
  },
  {
   "cell_type": "code",
   "execution_count": 9,
   "id": "ed84c5a5",
   "metadata": {
    "execution": {
     "iopub.execute_input": "2022-11-18T19:19:59.017447Z",
     "iopub.status.busy": "2022-11-18T19:19:59.016632Z",
     "iopub.status.idle": "2022-11-18T19:19:59.025931Z",
     "shell.execute_reply": "2022-11-18T19:19:59.025024Z"
    },
    "papermill": {
     "duration": 0.020282,
     "end_time": "2022-11-18T19:19:59.028170",
     "exception": false,
     "start_time": "2022-11-18T19:19:59.007888",
     "status": "completed"
    },
    "tags": []
   },
   "outputs": [
    {
     "data": {
      "text/plain": [
       "150,000-199,999     87\n",
       "125,000-149,999     59\n",
       "200,000-249,999     49\n",
       "100,000-124,999     45\n",
       "250,000-299,999     16\n",
       "80,000-89,999       12\n",
       "300,000-499,999     12\n",
       "90,000-99,999       11\n",
       "70,000-79,999        8\n",
       "60,000-69,999        6\n",
       "50,000-59,999        6\n",
       "$0-999               4\n",
       "10,000-14,999        4\n",
       "$500,000-999,999     4\n",
       "40,000-49,999        2\n",
       "25,000-29,999        2\n",
       "15,000-19,999        1\n",
       "20,000-24,999        1\n",
       "30,000-39,999        1\n",
       "Name: Q29, dtype: int64"
      ]
     },
     "execution_count": 9,
     "metadata": {},
     "output_type": "execute_result"
    }
   ],
   "source": [
    "ds['Q29'].value_counts()"
   ]
  },
  {
   "cell_type": "code",
   "execution_count": 10,
   "id": "df9e7768",
   "metadata": {
    "execution": {
     "iopub.execute_input": "2022-11-18T19:19:59.045458Z",
     "iopub.status.busy": "2022-11-18T19:19:59.044697Z",
     "iopub.status.idle": "2022-11-18T19:19:59.303972Z",
     "shell.execute_reply": "2022-11-18T19:19:59.303143Z"
    },
    "papermill": {
     "duration": 0.270366,
     "end_time": "2022-11-18T19:19:59.306160",
     "exception": false,
     "start_time": "2022-11-18T19:19:59.035794",
     "status": "completed"
    },
    "tags": []
   },
   "outputs": [
    {
     "data": {
      "image/png": "[encoded data removed]",
      "text/plain": [
       "<Figure size 432x288 with 1 Axes>"
      ]
     },
     "metadata": {},
     "output_type": "display_data"
    }
   ],
   "source": [
    "# Combined some salaries to make the graph look more clear and \"better\"\n",
    "\n",
    "sns.set_style('darkgrid')\n",
    "\n",
    "count = [35,23,45,59,87,49, 16, 16  ]\n",
    "salary = ['0-70k', '80k-99K', '100k-125K','125k-149K','150k-199K',\n",
    "         '200k-249K', '250k-299K','300k-1 M' ]\n",
    "plt.xlabel(\"Count\")\n",
    "plt.ylabel(\"Salary Range\")\n",
    "\n",
    "# Construct plot\n",
    "\n",
    "sns.barplot(x = count, y = salary)\n",
    "plt.title('Salary of Data scientists in the US')\n",
    "plt.show()"
   ]
  },
  {
   "cell_type": "markdown",
   "id": "d4537e25",
   "metadata": {
    "papermill": {
     "duration": 0.007635,
     "end_time": "2022-11-18T19:19:59.321868",
     "exception": false,
     "start_time": "2022-11-18T19:19:59.314233",
     "status": "completed"
    },
    "tags": []
   },
   "source": [
    "The vast majority of the data scientists make over 125K an year. This is a huge incentive in becoming a data scientist here in the US."
   ]
  },
  {
   "cell_type": "markdown",
   "id": "d95de2b5",
   "metadata": {
    "papermill": {
     "duration": 0.007595,
     "end_time": "2022-11-18T19:19:59.337462",
     "exception": false,
     "start_time": "2022-11-18T19:19:59.329867",
     "status": "completed"
    },
    "tags": []
   },
   "source": [
    "# Conclusion"
   ]
  },
  {
   "cell_type": "markdown",
   "id": "1904bb70",
   "metadata": {
    "papermill": {
     "duration": 0.008033,
     "end_time": "2022-11-18T19:19:59.353486",
     "exception": false,
     "start_time": "2022-11-18T19:19:59.345453",
     "status": "completed"
    },
    "tags": []
   },
   "source": [
    "In conclusion, data scientists who are Kagglers in the US, in general, make over 125k in salary a year, more than 80% have an advanced degree and is over 30 years old.  \n",
    "\n",
    "This analysis cemented my decision to obtain a Master's in Data Science and pursue a career in Data Science."
   ]
  }
 ],
 "metadata": {
  "kernelspec": {
   "display_name": "Python 3",
   "language": "python",
   "name": "python3"
  },
  "language_info": {
   "codemirror_mode": {
    "name": "ipython",
    "version": 3
   },
   "file_extension": ".py",
   "mimetype": "text/x-python",
   "name": "python",
   "nbconvert_exporter": "python",
   "pygments_lexer": "ipython3",
   "version": "3.7.12"
  },
  "papermill": {
   "default_parameters": {},
   "duration": 12.92701,
   "end_time": "2022-11-18T19:20:00.183459",
   "environment_variables": {},
   "exception": null,
   "input_path": "__notebook__.ipynb",
   "output_path": "__notebook__.ipynb",
   "parameters": {},
   "start_time": "2022-11-18T19:19:47.256449",
   "version": "2.3.4"
  }
 },
 "nbformat": 4,
 "nbformat_minor": 5
}
